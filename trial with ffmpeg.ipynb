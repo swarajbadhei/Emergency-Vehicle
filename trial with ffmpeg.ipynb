{
 "cells": [
  {
   "cell_type": "code",
   "execution_count": 1,
   "metadata": {},
   "outputs": [],
   "source": [
    "import pandas as pd\n",
    "import numpy as np\n",
    "import youtube_dl\n",
    "from moviepy.video.io.ffmpeg_tools import ffmpeg_extract_subclip\n",
    "import pafy\n",
    "import os"
   ]
  },
  {
   "cell_type": "code",
   "execution_count": 2,
   "metadata": {},
   "outputs": [
    {
     "name": "stderr",
     "output_type": "stream",
     "text": [
      "C:\\Users\\Swaraj Badhei\\Anaconda3\\lib\\site-packages\\IPython\\core\\interactiveshell.py:3058: DtypeWarning: Columns (12,13,14,15,16,17) have mixed types. Specify dtype option on import or set low_memory=False.\n",
      "  interactivity=interactivity, compiler=compiler, result=result)\n"
     ]
    }
   ],
   "source": [
    "data=pd.read_csv('unbalanced_train_segments.csv')"
   ]
  },
  {
   "cell_type": "code",
   "execution_count": 3,
   "metadata": {},
   "outputs": [],
   "source": [
    "targets=data.values[:,3:]"
   ]
  },
  {
   "cell_type": "code",
   "execution_count": 4,
   "metadata": {},
   "outputs": [
    {
     "data": {
      "text/plain": [
       "(1048572, 15)"
      ]
     },
     "execution_count": 4,
     "metadata": {},
     "output_type": "execute_result"
    }
   ],
   "source": [
    "targets.shape"
   ]
  },
  {
   "cell_type": "code",
   "execution_count": 27,
   "metadata": {},
   "outputs": [],
   "source": [
    "police='/m/04qvtq'\n",
    "ambu='/m/012n7d'\n",
    "fire='/m/012ndj'\n",
    "emer='/03j1ly'\n",
    "emer_lst=[]\n",
    "police_lst=[]\n",
    "ambu_lst=[]\n",
    "fire_lst=[]\n",
    "for i in range(targets.shape[0]):\n",
    "    #string=\n",
    "    if police in targets[i,:]:\n",
    "        police_lst.append([data.iloc[i,0],data.iloc[i,1],data.iloc[i,2]])\n",
    "    elif fire in targets[i,:]:\n",
    "        fire_lst.append([data.iloc[i,0],data.iloc[i,1],data.iloc[i,2]])\n",
    "    elif ambu in targets[i,:]:\n",
    "        ambu_lst.append([data.iloc[i,0],data.iloc[i,1],data.iloc[i,2]])\n",
    "    else:\n",
    "        pass"
   ]
  },
  {
   "cell_type": "code",
   "execution_count": 28,
   "metadata": {},
   "outputs": [
    {
     "data": {
      "text/plain": [
       "(242, 3)"
      ]
     },
     "execution_count": 28,
     "metadata": {},
     "output_type": "execute_result"
    }
   ],
   "source": [
    "np.array(police_lst).shape"
   ]
  },
  {
   "cell_type": "code",
   "execution_count": 18,
   "metadata": {},
   "outputs": [
    {
     "data": {
      "text/plain": [
       "40.0"
      ]
     },
     "execution_count": 18,
     "metadata": {},
     "output_type": "execute_result"
    }
   ],
   "source": [
    "police_lst[0][2]"
   ]
  },
  {
   "cell_type": "code",
   "execution_count": 42,
   "metadata": {},
   "outputs": [
    {
     "name": "stdout",
     "output_type": "stream",
     "text": [
      "https://www.youtube.com/watch?v=P3-jB8vi-no\n"
     ]
    },
    {
     "ename": "AttributeError",
     "evalue": "'YtdlPafy' object has no attribute 'get_best'",
     "output_type": "error",
     "traceback": [
      "\u001b[1;31m---------------------------------------------------------------------------\u001b[0m",
      "\u001b[1;31mAttributeError\u001b[0m                            Traceback (most recent call last)",
      "\u001b[1;32m<ipython-input-42-0f9b882c7e9b>\u001b[0m in \u001b[0;36m<module>\u001b[1;34m\u001b[0m\n\u001b[0;32m      6\u001b[0m     \u001b[0mprint\u001b[0m\u001b[1;33m(\u001b[0m\u001b[0mvideo_url\u001b[0m\u001b[1;33m)\u001b[0m\u001b[1;33m\u001b[0m\u001b[1;33m\u001b[0m\u001b[0m\n\u001b[0;32m      7\u001b[0m     \u001b[0mvideo\u001b[0m\u001b[1;33m=\u001b[0m\u001b[0mpafy\u001b[0m\u001b[1;33m.\u001b[0m\u001b[0mnew\u001b[0m\u001b[1;33m(\u001b[0m\u001b[0mvideo_url\u001b[0m\u001b[1;33m)\u001b[0m\u001b[1;33m\u001b[0m\u001b[1;33m\u001b[0m\u001b[0m\n\u001b[1;32m----> 8\u001b[1;33m     \u001b[0mbest_audio\u001b[0m\u001b[1;33m=\u001b[0m\u001b[0mvideo\u001b[0m\u001b[1;33m.\u001b[0m\u001b[0mget_best\u001b[0m\u001b[1;33m\u001b[0m\u001b[1;33m\u001b[0m\u001b[0m\n\u001b[0m",
      "\u001b[1;31mAttributeError\u001b[0m: 'YtdlPafy' object has no attribute 'get_best'"
     ]
    }
   ],
   "source": [
    "for indp in police_lst:\n",
    "    start_time=indp[1]\n",
    "    end_time=indp[2]\n",
    "    yid=indp[0]\n",
    "    video_url='https://www.youtube.com/watch?v={}'.format(yid)\n",
    "    print(video_url)\n",
    "    video=pafy.new(video_url)\n",
    "    best_audio=video.getbestaudio()\n",
    "    audio_name=best_audio.filename\n",
    "    best_audio.download()\n",
    "    if os.path.exists(audio_name):\n",
    "        output_file='Police_'+str(i)"
   ]
  },
  {
   "cell_type": "code",
   "execution_count": 29,
   "metadata": {},
   "outputs": [
    {
     "name": "stdout",
     "output_type": "stream",
     "text": [
      "shape before filtering = (242, 3)\n",
      "1\n",
      "2\n",
      "3\n",
      "4\n"
     ]
    },
    {
     "ename": "IndexError",
     "evalue": "list index out of range",
     "output_type": "error",
     "traceback": [
      "\u001b[1;31m---------------------------------------------------------------------------\u001b[0m",
      "\u001b[1;31mIndexError\u001b[0m                                Traceback (most recent call last)",
      "\u001b[1;32m<ipython-input-29-8bde63ba23ed>\u001b[0m in \u001b[0;36m<module>\u001b[1;34m\u001b[0m\n\u001b[0;32m      1\u001b[0m \u001b[0mprint\u001b[0m\u001b[1;33m(\u001b[0m\u001b[1;34m'shape before filtering = {}'\u001b[0m\u001b[1;33m.\u001b[0m\u001b[0mformat\u001b[0m\u001b[1;33m(\u001b[0m\u001b[0mnp\u001b[0m\u001b[1;33m.\u001b[0m\u001b[0marray\u001b[0m\u001b[1;33m(\u001b[0m\u001b[0mpolice_lst\u001b[0m\u001b[1;33m)\u001b[0m\u001b[1;33m.\u001b[0m\u001b[0mshape\u001b[0m\u001b[1;33m)\u001b[0m\u001b[1;33m)\u001b[0m\u001b[1;33m\u001b[0m\u001b[1;33m\u001b[0m\u001b[0m\n\u001b[0;32m      2\u001b[0m \u001b[1;32mfor\u001b[0m \u001b[0mj\u001b[0m \u001b[1;32min\u001b[0m \u001b[0mrange\u001b[0m\u001b[1;33m(\u001b[0m\u001b[0mnp\u001b[0m\u001b[1;33m.\u001b[0m\u001b[0marray\u001b[0m\u001b[1;33m(\u001b[0m\u001b[0mpolice_lst\u001b[0m\u001b[1;33m)\u001b[0m\u001b[1;33m.\u001b[0m\u001b[0mshape\u001b[0m\u001b[1;33m[\u001b[0m\u001b[1;36m0\u001b[0m\u001b[1;33m]\u001b[0m\u001b[1;33m)\u001b[0m\u001b[1;33m:\u001b[0m\u001b[1;33m\u001b[0m\u001b[1;33m\u001b[0m\u001b[0m\n\u001b[1;32m----> 3\u001b[1;33m     \u001b[1;32mif\u001b[0m \u001b[0mpolice_lst\u001b[0m\u001b[1;33m[\u001b[0m\u001b[0mj\u001b[0m\u001b[1;33m]\u001b[0m\u001b[1;33m[\u001b[0m\u001b[1;36m0\u001b[0m\u001b[1;33m]\u001b[0m\u001b[1;33m==\u001b[0m\u001b[1;34m'#NAME?'\u001b[0m\u001b[1;33m:\u001b[0m\u001b[1;33m\u001b[0m\u001b[1;33m\u001b[0m\u001b[0m\n\u001b[0m\u001b[0;32m      4\u001b[0m         \u001b[0mpolice_lst\u001b[0m\u001b[1;33m.\u001b[0m\u001b[0mremove\u001b[0m\u001b[1;33m(\u001b[0m\u001b[0mpolice_lst\u001b[0m\u001b[1;33m[\u001b[0m\u001b[0mj\u001b[0m\u001b[1;33m]\u001b[0m\u001b[1;33m)\u001b[0m\u001b[1;33m\u001b[0m\u001b[1;33m\u001b[0m\u001b[0m\n\u001b[0;32m      5\u001b[0m         \u001b[0mprint\u001b[0m\u001b[1;33m(\u001b[0m\u001b[0mj\u001b[0m\u001b[1;33m)\u001b[0m\u001b[1;33m\u001b[0m\u001b[1;33m\u001b[0m\u001b[0m\n",
      "\u001b[1;31mIndexError\u001b[0m: list index out of range"
     ]
    }
   ],
   "source": [
    "print('shape before filtering = {}'.format(np.array(police_lst).shape))\n",
    "for j in range(np.array(police_lst).shape[0]):\n",
    "    if police_lst[j][0]=='#NAME?':\n",
    "        police_lst.remove(police_lst[j])\n",
    "        print(j)\n",
    "print('Shape after filtering = {}'.format(np.array(police_lst).shape))"
   ]
  },
  {
   "cell_type": "code",
   "execution_count": 15,
   "metadata": {},
   "outputs": [
    {
     "name": "stdout",
     "output_type": "stream",
     "text": [
      "  659,094.0 Bytes [100.00%] received. Rate: [1233 KB/s].  ETA: [0 secs]    \n",
      "Moviepy - Running:\n",
      ">>> \"+ \" \".join(cmd)\n",
      "Moviepy - Command successful\n",
      "DONE FOR 0\n"
     ]
    },
    {
     "ename": "ValueError",
     "evalue": "Need 11 character video id or the URL of the video. Got https://www.youtube.com/watch?v=#NAME?",
     "output_type": "error",
     "traceback": [
      "\u001b[1;31m---------------------------------------------------------------------------\u001b[0m",
      "\u001b[1;31mValueError\u001b[0m                                Traceback (most recent call last)",
      "\u001b[1;32m<ipython-input-15-51e3f59c5640>\u001b[0m in \u001b[0;36m<module>\u001b[1;34m\u001b[0m\n\u001b[0;32m      5\u001b[0m     \u001b[0my_id\u001b[0m\u001b[1;33m=\u001b[0m\u001b[0mpolice_lst\u001b[0m\u001b[1;33m[\u001b[0m\u001b[0mi\u001b[0m\u001b[1;33m]\u001b[0m\u001b[1;33m[\u001b[0m\u001b[1;36m0\u001b[0m\u001b[1;33m]\u001b[0m\u001b[1;33m\u001b[0m\u001b[1;33m\u001b[0m\u001b[0m\n\u001b[0;32m      6\u001b[0m     \u001b[0mvideo_url\u001b[0m\u001b[1;33m=\u001b[0m\u001b[1;34m'https://www.youtube.com/watch?v={}'\u001b[0m\u001b[1;33m.\u001b[0m\u001b[0mformat\u001b[0m\u001b[1;33m(\u001b[0m\u001b[0my_id\u001b[0m\u001b[1;33m)\u001b[0m\u001b[1;33m\u001b[0m\u001b[1;33m\u001b[0m\u001b[0m\n\u001b[1;32m----> 7\u001b[1;33m     \u001b[0mvideo\u001b[0m\u001b[1;33m=\u001b[0m\u001b[0mpafy\u001b[0m\u001b[1;33m.\u001b[0m\u001b[0mnew\u001b[0m\u001b[1;33m(\u001b[0m\u001b[0mvideo_url\u001b[0m\u001b[1;33m)\u001b[0m\u001b[1;33m\u001b[0m\u001b[1;33m\u001b[0m\u001b[0m\n\u001b[0m\u001b[0;32m      8\u001b[0m     \u001b[0mbest_audio\u001b[0m\u001b[1;33m=\u001b[0m\u001b[0mvideo\u001b[0m\u001b[1;33m.\u001b[0m\u001b[0mgetbestaudio\u001b[0m\u001b[1;33m(\u001b[0m\u001b[1;33m)\u001b[0m\u001b[1;33m\u001b[0m\u001b[1;33m\u001b[0m\u001b[0m\n\u001b[0;32m      9\u001b[0m     \u001b[0maudio_name\u001b[0m\u001b[1;33m=\u001b[0m\u001b[0mbest_audio\u001b[0m\u001b[1;33m.\u001b[0m\u001b[0mfilename\u001b[0m\u001b[1;33m\u001b[0m\u001b[1;33m\u001b[0m\u001b[0m\n",
      "\u001b[1;32m~\\Anaconda3\\lib\\site-packages\\pafy\\pafy.py\u001b[0m in \u001b[0;36mnew\u001b[1;34m(url, basic, gdata, size, callback, ydl_opts)\u001b[0m\n\u001b[0;32m    122\u001b[0m            \u001b[1;32mfrom\u001b[0m \u001b[1;33m.\u001b[0m\u001b[0mbackend_youtube_dl\u001b[0m \u001b[1;32mimport\u001b[0m \u001b[0mYtdlPafy\u001b[0m \u001b[1;32mas\u001b[0m \u001b[0mPafy\u001b[0m\u001b[1;33m\u001b[0m\u001b[1;33m\u001b[0m\u001b[0m\n\u001b[0;32m    123\u001b[0m \u001b[1;33m\u001b[0m\u001b[0m\n\u001b[1;32m--> 124\u001b[1;33m     \u001b[1;32mreturn\u001b[0m \u001b[0mPafy\u001b[0m\u001b[1;33m(\u001b[0m\u001b[0murl\u001b[0m\u001b[1;33m,\u001b[0m \u001b[0mbasic\u001b[0m\u001b[1;33m,\u001b[0m \u001b[0mgdata\u001b[0m\u001b[1;33m,\u001b[0m \u001b[0msize\u001b[0m\u001b[1;33m,\u001b[0m \u001b[0mcallback\u001b[0m\u001b[1;33m,\u001b[0m \u001b[0mydl_opts\u001b[0m\u001b[1;33m=\u001b[0m\u001b[0mydl_opts\u001b[0m\u001b[1;33m)\u001b[0m\u001b[1;33m\u001b[0m\u001b[1;33m\u001b[0m\u001b[0m\n\u001b[0m\u001b[0;32m    125\u001b[0m \u001b[1;33m\u001b[0m\u001b[0m\n\u001b[0;32m    126\u001b[0m \u001b[1;33m\u001b[0m\u001b[0m\n",
      "\u001b[1;32m~\\Anaconda3\\lib\\site-packages\\pafy\\backend_youtube_dl.py\u001b[0m in \u001b[0;36m__init__\u001b[1;34m(self, *args, **kwargs)\u001b[0m\n\u001b[0;32m     29\u001b[0m         \u001b[1;32mif\u001b[0m \u001b[0mydl_opts\u001b[0m\u001b[1;33m:\u001b[0m\u001b[1;33m\u001b[0m\u001b[1;33m\u001b[0m\u001b[0m\n\u001b[0;32m     30\u001b[0m             \u001b[0mself\u001b[0m\u001b[1;33m.\u001b[0m\u001b[0m_ydl_opts\u001b[0m\u001b[1;33m.\u001b[0m\u001b[0mupdate\u001b[0m\u001b[1;33m(\u001b[0m\u001b[0mydl_opts\u001b[0m\u001b[1;33m)\u001b[0m\u001b[1;33m\u001b[0m\u001b[1;33m\u001b[0m\u001b[0m\n\u001b[1;32m---> 31\u001b[1;33m         \u001b[0msuper\u001b[0m\u001b[1;33m(\u001b[0m\u001b[0mYtdlPafy\u001b[0m\u001b[1;33m,\u001b[0m \u001b[0mself\u001b[0m\u001b[1;33m)\u001b[0m\u001b[1;33m.\u001b[0m\u001b[0m__init__\u001b[0m\u001b[1;33m(\u001b[0m\u001b[1;33m*\u001b[0m\u001b[0margs\u001b[0m\u001b[1;33m,\u001b[0m \u001b[1;33m**\u001b[0m\u001b[0mkwargs\u001b[0m\u001b[1;33m)\u001b[0m\u001b[1;33m\u001b[0m\u001b[1;33m\u001b[0m\u001b[0m\n\u001b[0m\u001b[0;32m     32\u001b[0m \u001b[1;33m\u001b[0m\u001b[0m\n\u001b[0;32m     33\u001b[0m     \u001b[1;32mdef\u001b[0m \u001b[0m_fetch_basic\u001b[0m\u001b[1;33m(\u001b[0m\u001b[0mself\u001b[0m\u001b[1;33m)\u001b[0m\u001b[1;33m:\u001b[0m\u001b[1;33m\u001b[0m\u001b[1;33m\u001b[0m\u001b[0m\n",
      "\u001b[1;32m~\\Anaconda3\\lib\\site-packages\\pafy\\backend_shared.py\u001b[0m in \u001b[0;36m__init__\u001b[1;34m(self, video_url, basic, gdata, size, callback, ydl_opts)\u001b[0m\n\u001b[0;32m     60\u001b[0m         \u001b[1;34m\"\"\" Set initial values. \"\"\"\u001b[0m\u001b[1;33m\u001b[0m\u001b[1;33m\u001b[0m\u001b[0m\n\u001b[0;32m     61\u001b[0m         \u001b[0mself\u001b[0m\u001b[1;33m.\u001b[0m\u001b[0mversion\u001b[0m \u001b[1;33m=\u001b[0m \u001b[0m__version__\u001b[0m\u001b[1;33m\u001b[0m\u001b[1;33m\u001b[0m\u001b[0m\n\u001b[1;32m---> 62\u001b[1;33m         \u001b[0mself\u001b[0m\u001b[1;33m.\u001b[0m\u001b[0mvideoid\u001b[0m \u001b[1;33m=\u001b[0m \u001b[0mextract_video_id\u001b[0m\u001b[1;33m(\u001b[0m\u001b[0mvideo_url\u001b[0m\u001b[1;33m)\u001b[0m\u001b[1;33m\u001b[0m\u001b[1;33m\u001b[0m\u001b[0m\n\u001b[0m\u001b[0;32m     63\u001b[0m         \u001b[0mself\u001b[0m\u001b[1;33m.\u001b[0m\u001b[0mwatchv_url\u001b[0m \u001b[1;33m=\u001b[0m \u001b[0mg\u001b[0m\u001b[1;33m.\u001b[0m\u001b[0murls\u001b[0m\u001b[1;33m[\u001b[0m\u001b[1;34m'watchv'\u001b[0m\u001b[1;33m]\u001b[0m \u001b[1;33m%\u001b[0m \u001b[0mself\u001b[0m\u001b[1;33m.\u001b[0m\u001b[0mvideoid\u001b[0m\u001b[1;33m\u001b[0m\u001b[1;33m\u001b[0m\u001b[0m\n\u001b[0;32m     64\u001b[0m \u001b[1;33m\u001b[0m\u001b[0m\n",
      "\u001b[1;32m~\\Anaconda3\\lib\\site-packages\\pafy\\backend_shared.py\u001b[0m in \u001b[0;36mextract_video_id\u001b[1;34m(url)\u001b[0m\n\u001b[0;32m     49\u001b[0m \u001b[1;33m\u001b[0m\u001b[0m\n\u001b[0;32m     50\u001b[0m     \u001b[0merr\u001b[0m \u001b[1;33m=\u001b[0m \u001b[1;34m\"Need 11 character video id or the URL of the video. Got %s\"\u001b[0m\u001b[1;33m\u001b[0m\u001b[1;33m\u001b[0m\u001b[0m\n\u001b[1;32m---> 51\u001b[1;33m     \u001b[1;32mraise\u001b[0m \u001b[0mValueError\u001b[0m\u001b[1;33m(\u001b[0m\u001b[0merr\u001b[0m \u001b[1;33m%\u001b[0m \u001b[0murl\u001b[0m\u001b[1;33m)\u001b[0m\u001b[1;33m\u001b[0m\u001b[1;33m\u001b[0m\u001b[0m\n\u001b[0m\u001b[0;32m     52\u001b[0m \u001b[1;33m\u001b[0m\u001b[0m\n\u001b[0;32m     53\u001b[0m \u001b[1;33m\u001b[0m\u001b[0m\n",
      "\u001b[1;31mValueError\u001b[0m: Need 11 character video id or the URL of the video. Got https://www.youtube.com/watch?v=#NAME?"
     ]
    }
   ],
   "source": [
    "for i in range(np.array(police_lst).shape[0]):\n",
    "    ts=police_lst[i][1]\n",
    "    te=police_lst[i][2]\n",
    "    #print(te,ts)\n",
    "    y_id=police_lst[i][0]\n",
    "    video_url='https://www.youtube.com/watch?v={}'.format(y_id)\n",
    "    video=pafy.new(video_url)\n",
    "    best_audio=video.getbestaudio()\n",
    "    audio_name=best_audio.filename\n",
    "    best_audio.download()\n",
    "    if os.path.exists(audio_name):\n",
    "        output_file='Police_'+str(i)+'.webm'\n",
    "        ffmpeg_extract_subclip(audio_name,ts,te,targetname=output_file)\n",
    "        os.remove(audio_name)\n",
    "    print(\"DONE FOR {}\".format(i))"
   ]
  },
  {
   "cell_type": "code",
   "execution_count": 26,
   "metadata": {},
   "outputs": [
    {
     "data": {
      "text/plain": [
       "[['-122tCXtFhU', 30.0, 40.0],\n",
       " [9.0, 19.0],\n",
       " [350.0, 360.0],\n",
       " [10.0, 20.0],\n",
       " [10.0, 20.0],\n",
       " [3.0, 13.0],\n",
       " [8.0, 18.0],\n",
       " [0.0, 10.0],\n",
       " ['09dzay_jgNs', 30.0, 40.0],\n",
       " ['0Fv4lkRB-BM', 140.0, 150.0],\n",
       " ['0I6Mlp27_gM', 30.0, 40.0],\n",
       " ['0Y98tzWJkjw', 140.0, 150.0],\n",
       " ['0rKDe5UNSlk', 30.0, 40.0],\n",
       " ['0xbnKT0lTZY', 7.0, 17.0],\n",
       " ['12K4PFm6afY', 0.0, 10.0],\n",
       " ['12aXUfObwlY', 0.0, 10.0],\n",
       " ['1NVfl7AnSRg', 30.0, 40.0],\n",
       " ['1PPn02f5M2U', 3.0, 13.0],\n",
       " ['1W-yspM_mns', 30.0, 40.0],\n",
       " ['1XPr0mGp4JI', 30.0, 40.0],\n",
       " ['1Y-X9sA1V0w', 30.0, 40.0],\n",
       " ['1Yxm08Q5j04', 14.0, 24.0],\n",
       " ['1aXQVJWpgKQ', 30.0, 40.0],\n",
       " ['1menriOu8xI', 10.0, 20.0],\n",
       " ['1pLOAHXZTdQ', 0.0, 10.0],\n",
       " ['1tdGqmmMvN8', 30.0, 40.0],\n",
       " ['1wxDPv-U7XI', 20.0, 30.0],\n",
       " ['1z1x1KrGWVw', 150.0, 160.0],\n",
       " ['20QEXBty5iY', 27.0, 37.0],\n",
       " ['256ESX-Fe90', 30.0, 40.0],\n",
       " ['2DC5uZcrhcY', 10.0, 20.0],\n",
       " ['2MHhtDe72Sc', 50.0, 60.0],\n",
       " ['2NU-ij1hO2c', 30.0, 40.0],\n",
       " ['2NlASv1Z5IY', 30.0, 40.0],\n",
       " ['2S3bd7jBX0Q', 10.0, 20.0],\n",
       " ['2fS6PbFGVKw', 25.0, 35.0],\n",
       " ['2jXPc6IC1zE', 20.0, 30.0],\n",
       " ['2xWH7McfIVA', 50.0, 60.0],\n",
       " ['2zusC8gWnXw', 24.0, 34.0],\n",
       " ['35t3MVCE160', 30.0, 40.0],\n",
       " ['3T1z1c3Z_Es', 40.0, 50.0],\n",
       " ['3UE_AQZ9RNU', 30.0, 40.0],\n",
       " ['3gJkDVFdBSc', 30.0, 40.0],\n",
       " ['3jEK-hQZshU', 0.0, 10.0],\n",
       " ['3sVWGc8Z7F4', 30.0, 40.0],\n",
       " ['447Tv2wYwR0', 21.0, 31.0],\n",
       " ['495SjWHEz7Q', 25.0, 35.0],\n",
       " ['4vdEmK_Ywhs', 30.0, 40.0],\n",
       " ['50UkIXNt9M8', 30.0, 40.0],\n",
       " ['57NefYJLTE4', 30.0, 40.0],\n",
       " ['5EueOObOVGw', 16.0, 26.0],\n",
       " ['5UEANjv4EaQ', 3.0, 13.0],\n",
       " ['5XkYYom37u0', 7.0, 17.0],\n",
       " ['5_6WkhNqyN4', 4.0, 14.0],\n",
       " ['5eNOKWmmCcI', 30.0, 40.0],\n",
       " ['5om-tsbyY9M', 0.0, 10.0],\n",
       " ['5p-XAJdzqPc', 30.0, 40.0],\n",
       " ['5sicVdGVYco', 30.0, 40.0],\n",
       " ['5tb_c-jFqMw', 30.0, 40.0],\n",
       " ['5z-qZv3F2V0', 200.0, 210.0],\n",
       " ['6GJY_1ThSNY', 23.0, 33.0],\n",
       " ['6HqoI_24yE4', 40.0, 50.0],\n",
       " ['6ZQf9U-zoxo', 220.0, 230.0],\n",
       " ['6nh77H89RzI', 0.0, 10.0],\n",
       " ['6uhnFV4IByo', 30.0, 40.0],\n",
       " ['6wAVcD4J1EE', 6.0, 16.0],\n",
       " ['7-tA1tYeG7o', 230.0, 240.0],\n",
       " ['72FjUmpsJyk', 29.0, 39.0],\n",
       " ['7YyBddAnwHk', 30.0, 40.0],\n",
       " ['7hdXzJpOXiY', 18.0, 28.0],\n",
       " ['7k09T6S3i6k', 30.0, 40.0],\n",
       " ['7kpYbTlXXp4', 30.0, 40.0],\n",
       " ['7n2jhq-wi-Q', 7.0, 17.0],\n",
       " ['8455AtIQh9k', 30.0, 40.0],\n",
       " ['87Skd_EqUSw', 30.0, 40.0],\n",
       " ['8UPK_6UGBVE', 320.0, 330.0],\n",
       " ['8_o3kls-iL8', 30.0, 40.0],\n",
       " ['8bERkwtKmMc', 2.0, 12.0],\n",
       " ['8cMGBlj2bAk', 29.0, 39.0],\n",
       " ['8l3ccRc_Ljw', 140.0, 150.0],\n",
       " ['8weZUFLXNnE', 20.0, 30.0],\n",
       " ['90177TPeR2g', 50.0, 60.0],\n",
       " ['94oxhl9o4zc', 0.0, 10.0],\n",
       " ['95T2WjyDhKk', 30.0, 40.0],\n",
       " ['9H6FLDiM4gg', 30.0, 40.0],\n",
       " ['9Vu4vPWZYJo', 30.0, 40.0],\n",
       " ['9_DZ7TIm4sk', 30.0, 40.0],\n",
       " ['9bhWKsM-FUs', 30.0, 40.0],\n",
       " ['9dE8VuNgwYg', 18.0, 28.0],\n",
       " ['9gCfNKhR3-g', 30.0, 40.0],\n",
       " ['9wHXSPhnfcE', 30.0, 40.0],\n",
       " ['9wkAMFbZkg4', 110.0, 120.0],\n",
       " ['A1Q4fCL-TME', 260.0, 270.0],\n",
       " ['AEalH0DM4iI', 17.0, 27.0],\n",
       " ['AGoWSs94hQc', 30.0, 40.0],\n",
       " ['APQZVq1pMsU', 180.0, 190.0],\n",
       " ['ASZiqIOrZJo', 0.0, 10.0],\n",
       " ['AcpuQrodb1k', 30.0, 40.0],\n",
       " ['AogW-2HqvMo', 30.0, 40.0],\n",
       " ['AtaCHP9YQIA', 30.0, 40.0],\n",
       " ['AzUSK6jhnmM', 30.0, 40.0],\n",
       " ['B6G0w_Bg5Nk', 70.0, 80.0],\n",
       " ['BArGupQhId8', 30.0, 40.0],\n",
       " ['BAtFJi6S-7c', 30.0, 40.0],\n",
       " ['BDTlaUbJcrI', 30.0, 40.0],\n",
       " ['BFuGVKI1wlA', 210.0, 220.0],\n",
       " ['BKMle8hodOQ', 23.0, 33.0],\n",
       " ['BLkx5dxHLl8', 30.0, 40.0],\n",
       " ['BQQzUbV1tyQ', 20.0, 30.0],\n",
       " ['C8Ne4NNA_CA', 10.0, 20.0],\n",
       " ['CF9iqq99SOQ', 12.0, 22.0],\n",
       " ['CMQArl9dSHY', 20.0, 30.0],\n",
       " ['COGUADLm2gQ', 30.0, 40.0],\n",
       " ['COt3JH5zlFI', 30.0, 40.0],\n",
       " ['CagYyzDAHu0', 200.0, 210.0],\n",
       " ['CdyHQN4MAPo', 10.0, 20.0],\n",
       " ['Cefw_CgwGgM', 100.0, 110.0],\n",
       " ['Czfg4OvI8ZE', 8.0, 18.0],\n",
       " ['DIkSGraVUmk', 70.0, 80.0],\n",
       " ['DKBrrRr5br4', 30.0, 40.0],\n",
       " ['DaF5fZoz2jU', 30.0, 40.0],\n",
       " ['DdGDeAFWlhA', 11.0, 21.0],\n",
       " ['Dg1RaCMZTjM', 9.0, 19.0],\n",
       " ['DlJ-i4oGkmI', 30.0, 40.0],\n",
       " ['E23k1XhlmNQ', 0.0, 9.0],\n",
       " ['E2AaojYhqrw', 15.0, 25.0],\n",
       " ['E5XqPOzFnfI', 19.0, 29.0],\n",
       " ['E6i9AKBYiKg', 2.0, 12.0],\n",
       " ['E8e8vW7dH-E', 30.0, 40.0],\n",
       " ['EF6duJ04-I4', 5.0, 15.0],\n",
       " ['EFb39xJQwZ8', 0.0, 10.0],\n",
       " ['EFsnLuj_ILM', 10.0, 20.0],\n",
       " ['EGAGh17UgzM', 10.0, 20.0],\n",
       " ['EH-uPC0U2-w', 0.0, 10.0],\n",
       " ['EHr2Bjr155s', 40.0, 50.0],\n",
       " ['EVQ5A56WWug', 30.0, 40.0],\n",
       " ['EYqBcyK6q4U', 0.0, 9.0],\n",
       " ['Eb0s6gKKFgs', 0.0, 9.0],\n",
       " ['EhcdKAq3S8g', 20.0, 30.0],\n",
       " ['EiWkTD26E-c', 170.0, 180.0],\n",
       " ['Elg3q4FumgE', 10.0, 20.0],\n",
       " ['EnxS29QYoSE', 0.0, 10.0],\n",
       " ['ExQ-9F1dXGY', 90.0, 100.0],\n",
       " ['F2-JvDbdWto', 30.0, 40.0],\n",
       " ['FDkl-22SzfA', 6.0, 16.0],\n",
       " ['FELMRwtte8c', 150.0, 160.0],\n",
       " ['FMdxqkR9SQU', 50.0, 60.0],\n",
       " ['FNRXerP9gyI', 10.0, 20.0],\n",
       " ['FSt84_HGZSg', 20.0, 30.0],\n",
       " ['FTxYiDvcp3c', 30.0, 40.0],\n",
       " ['FudvpR9XTmw', 12.0, 22.0],\n",
       " ['FuxDgrbnLkk', 30.0, 40.0],\n",
       " ['FvYAC5A9e2M', 30.0, 40.0],\n",
       " ['FvuVDLnhrwE', 13.0, 23.0],\n",
       " ['G2E9YW83ak4', 30.0, 40.0],\n",
       " ['G5Zk3PqFcVY', 20.0, 30.0],\n",
       " ['G7IUTroCggA', 50.0, 60.0],\n",
       " ['GPRfS66dF2A', 40.0, 50.0],\n",
       " ['GPh_DShjdaA', 320.0, 330.0],\n",
       " ['GWIoKdJwqDU', 9.0, 19.0],\n",
       " ['GYx9Kkmj1Ks', 27.0, 37.0],\n",
       " ['GbyK-4HCwUE', 240.0, 250.0],\n",
       " ['GcOAQUWJOOQ', 0.0, 9.0],\n",
       " ['GgjpbZbacIs', 30.0, 40.0],\n",
       " ['GzZrQR5VMwA', 30.0, 40.0],\n",
       " ['H3LNRMSZX4s', 30.0, 40.0],\n",
       " ['H5MRGb0ndog', 30.0, 40.0],\n",
       " ['HEg1bmaRqlA', 30.0, 40.0],\n",
       " ['HFTfES3CBI0', 7.0, 17.0],\n",
       " ['HHI2bGHyM0o', 30.0, 40.0],\n",
       " ['HQQxGJKg1iM', 30.0, 40.0],\n",
       " ['Hpnja1gcKN0', 30.0, 40.0],\n",
       " ['I-rxfgLegBU', 30.0, 40.0],\n",
       " ['I3oeJ3tAnxE', 30.0, 40.0],\n",
       " ['I7fdphE2vRM', 200.0, 210.0],\n",
       " ['IA7HA1NMPGg', 40.0, 50.0],\n",
       " ['ITQNxkJrqOk', 30.0, 40.0],\n",
       " ['IX-EAGiSw1I', 30.0, 40.0],\n",
       " ['IieMyEQ9wcU', 90.0, 100.0],\n",
       " ['IoIF17NdNiQ', 60.0, 70.0],\n",
       " ['ItmS1mhB78o', 0.0, 10.0],\n",
       " ['Iyyrm16i22w', 30.0, 40.0],\n",
       " ['J3blNOPsCEo', 0.0, 10.0],\n",
       " ['J4GgFgjpbuQ', 4.0, 14.0],\n",
       " ['J7DeQFyq6Eg', 10.0, 20.0],\n",
       " ['JSBJwIUC8UM', 160.0, 170.0],\n",
       " ['JTblOMoHXOg', 30.0, 40.0],\n",
       " ['JVwyUXIMxcc', 0.0, 10.0],\n",
       " ['JZlsCt8YVIA', 0.0, 10.0],\n",
       " ['JcO2TTtiplA', 30.0, 40.0],\n",
       " ['JdIfNzA9ksY', 50.0, 60.0],\n",
       " ['JeKPdLYffsI', 30.0, 40.0],\n",
       " ['JfzM_99kuTU', 0.0, 10.0],\n",
       " ['JsF0cyKD0UQ', 430.0, 440.0],\n",
       " ['K9lmiWhXu1s', 0.0, 9.0],\n",
       " ['KHvh_9Pu0sY', 90.0, 100.0],\n",
       " ['KJT7O8VkOZ8', 22.0, 32.0],\n",
       " ['KYyCfsJYQM4', 470.0, 480.0],\n",
       " ['Kdoepth5luc', 26.0, 36.0],\n",
       " ['Ktrc4jjT0QU', 30.0, 40.0],\n",
       " ['Kz91IHNxA8U', 0.0, 10.0],\n",
       " ['L19iNwKlzk0', 50.0, 60.0],\n",
       " ['L4XjN9ixl1M', 15.0, 25.0],\n",
       " ['LMpxEF4Ag7M', 180.0, 190.0],\n",
       " ['LcdryGfdpNI', 17.0, 27.0],\n",
       " ['LjHOYz7q1YQ', 180.0, 190.0],\n",
       " ['Ln8NGg3Ll5o', 5.0, 15.0],\n",
       " ['Lp8ahrjqnbM', 0.0, 10.0],\n",
       " ['LroT8c4qWlM', 30.0, 40.0],\n",
       " ['Ls_8qHsZZ5E', 30.0, 40.0],\n",
       " ['LwdF3e2oFow', 6.0, 16.0],\n",
       " ['M5uXEctVuEY', 30.0, 40.0],\n",
       " ['M7mIQuPV_t0', 17.0, 27.0],\n",
       " ['MFAmvXBkhTs', 30.0, 40.0],\n",
       " ['MJ-wuiqNzv0', 0.0, 10.0],\n",
       " ['MYBtLHrvcTU', 30.0, 40.0],\n",
       " ['Mtt9SYVvw6k', 30.0, 40.0],\n",
       " ['N0qy-eVVw64', 30.0, 40.0],\n",
       " ['N8pp9lClzRc', 60.0, 70.0],\n",
       " ['NF2HCvevKEk', 30.0, 40.0],\n",
       " ['NGIwHTuX9HA', 30.0, 40.0],\n",
       " ['NJHxX-r5oHE', 30.0, 40.0],\n",
       " ['NQ0PRMb-g24', 30.0, 40.0],\n",
       " ['NUk1K03uxnI', 30.0, 40.0],\n",
       " ['NVuxT7-9fb8', 5.0, 15.0],\n",
       " ['NZ8pS8fv7Q8', 20.0, 30.0],\n",
       " ['N_GeH99AiVY', 30.0, 40.0],\n",
       " ['NmiI8PtyieE', 10.0, 20.0],\n",
       " ['NmsYPXUJzVY', 30.0, 40.0],\n",
       " ['NsRmoJKZomw', 30.0, 40.0],\n",
       " ['NvlghYdEJeQ', 40.0, 50.0],\n",
       " ['Nwd8GcEeQCU', 30.0, 40.0],\n",
       " ['O3geFV-GoqM', 0.0, 10.0],\n",
       " ['O4uv0JJTVzw', 3.0, 13.0],\n",
       " ['OA0rZOi8Kx8', 0.0, 8.0],\n",
       " ['OEvOWZWr9D8', 30.0, 40.0],\n",
       " ['OJobEDITPZo', 30.0, 40.0],\n",
       " ['OK_3NWWadT0', 1.0, 11.0],\n",
       " ['ORSvarz5uWk', 30.0, 40.0],\n",
       " ['ORivJXXSxqc', 0.0, 10.0],\n",
       " ['OaoEyjfCPak', 0.0, 10.0],\n",
       " ['P3-jB8vi-no', 110.0, 120.0]]"
      ]
     },
     "execution_count": 26,
     "metadata": {},
     "output_type": "execute_result"
    }
   ],
   "source": [
    "police_lst"
   ]
  },
  {
   "cell_type": "code",
   "execution_count": 47,
   "metadata": {},
   "outputs": [],
   "source": [
    "video_url='https://www.youtube.com/watch?v={}'.format(yid)"
   ]
  },
  {
   "cell_type": "code",
   "execution_count": 63,
   "metadata": {},
   "outputs": [],
   "source": [
    "video=pafy.new(video_url)"
   ]
  },
  {
   "cell_type": "code",
   "execution_count": 64,
   "metadata": {},
   "outputs": [],
   "source": [
    "best_audio=video.getbestaudio()"
   ]
  },
  {
   "cell_type": "code",
   "execution_count": 65,
   "metadata": {},
   "outputs": [
    {
     "name": "stdout",
     "output_type": "stream",
     "text": [
      "  1,743,337.0 Bytes [100.00%] received. Rate: [1356 KB/s].  ETA: [0 secs]    \n"
     ]
    }
   ],
   "source": [
    "best_audio.download()"
   ]
  },
  {
   "cell_type": "code",
   "execution_count": 66,
   "metadata": {},
   "outputs": [
    {
     "name": "stdout",
     "output_type": "stream",
     "text": [
      "30.0\n",
      "40.0\n"
     ]
    }
   ],
   "source": [
    "audio_name=best_audio.filename\n",
    "print(ts)\n",
    "print(te)"
   ]
  },
  {
   "cell_type": "code",
   "execution_count": 68,
   "metadata": {},
   "outputs": [
    {
     "name": "stdout",
     "output_type": "stream",
     "text": [
      "Moviepy - Running:\n",
      ">>> \"+ \" \".join(cmd)\n",
      "Moviepy - Command successful\n"
     ]
    }
   ],
   "source": [
    "if os.path.exists(audio_name):\n",
    "    output_file='file1'+'.webm'\n",
    "    ffmpeg_extract_subclip(audio_name,ts,te,targetname=output_file)\n",
    "    os.remove(audio_name)"
   ]
  },
  {
   "cell_type": "code",
   "execution_count": 69,
   "metadata": {},
   "outputs": [],
   "source": [
    "import librosa"
   ]
  },
  {
   "cell_type": "code",
   "execution_count": 70,
   "metadata": {},
   "outputs": [
    {
     "data": {
      "text/plain": [
       "'0.7.2'"
      ]
     },
     "execution_count": 70,
     "metadata": {},
     "output_type": "execute_result"
    }
   ],
   "source": [
    "librosa.__version__"
   ]
  },
  {
   "cell_type": "code",
   "execution_count": 71,
   "metadata": {},
   "outputs": [
    {
     "name": "stderr",
     "output_type": "stream",
     "text": [
      "C:\\Users\\Swaraj Badhei\\Anaconda3\\lib\\site-packages\\librosa\\core\\audio.py:161: UserWarning: PySoundFile failed. Trying audioread instead.\n",
      "  warnings.warn('PySoundFile failed. Trying audioread instead.')\n"
     ]
    },
    {
     "ename": "NoBackendError",
     "evalue": "",
     "output_type": "error",
     "traceback": [
      "\u001b[1;31m---------------------------------------------------------------------------\u001b[0m",
      "\u001b[1;31mRuntimeError\u001b[0m                              Traceback (most recent call last)",
      "\u001b[1;32m~\\Anaconda3\\lib\\site-packages\\librosa\\core\\audio.py\u001b[0m in \u001b[0;36mload\u001b[1;34m(path, sr, mono, offset, duration, dtype, res_type)\u001b[0m\n\u001b[0;32m    128\u001b[0m     \u001b[1;32mtry\u001b[0m\u001b[1;33m:\u001b[0m\u001b[1;33m\u001b[0m\u001b[1;33m\u001b[0m\u001b[0m\n\u001b[1;32m--> 129\u001b[1;33m         \u001b[1;32mwith\u001b[0m \u001b[0msf\u001b[0m\u001b[1;33m.\u001b[0m\u001b[0mSoundFile\u001b[0m\u001b[1;33m(\u001b[0m\u001b[0mpath\u001b[0m\u001b[1;33m)\u001b[0m \u001b[1;32mas\u001b[0m \u001b[0msf_desc\u001b[0m\u001b[1;33m:\u001b[0m\u001b[1;33m\u001b[0m\u001b[1;33m\u001b[0m\u001b[0m\n\u001b[0m\u001b[0;32m    130\u001b[0m             \u001b[0msr_native\u001b[0m \u001b[1;33m=\u001b[0m \u001b[0msf_desc\u001b[0m\u001b[1;33m.\u001b[0m\u001b[0msamplerate\u001b[0m\u001b[1;33m\u001b[0m\u001b[1;33m\u001b[0m\u001b[0m\n",
      "\u001b[1;32m~\\Anaconda3\\lib\\site-packages\\soundfile.py\u001b[0m in \u001b[0;36m__init__\u001b[1;34m(self, file, mode, samplerate, channels, subtype, endian, format, closefd)\u001b[0m\n\u001b[0;32m    628\u001b[0m                                          format, subtype, endian)\n\u001b[1;32m--> 629\u001b[1;33m         \u001b[0mself\u001b[0m\u001b[1;33m.\u001b[0m\u001b[0m_file\u001b[0m \u001b[1;33m=\u001b[0m \u001b[0mself\u001b[0m\u001b[1;33m.\u001b[0m\u001b[0m_open\u001b[0m\u001b[1;33m(\u001b[0m\u001b[0mfile\u001b[0m\u001b[1;33m,\u001b[0m \u001b[0mmode_int\u001b[0m\u001b[1;33m,\u001b[0m \u001b[0mclosefd\u001b[0m\u001b[1;33m)\u001b[0m\u001b[1;33m\u001b[0m\u001b[1;33m\u001b[0m\u001b[0m\n\u001b[0m\u001b[0;32m    630\u001b[0m         \u001b[1;32mif\u001b[0m \u001b[0mset\u001b[0m\u001b[1;33m(\u001b[0m\u001b[0mmode\u001b[0m\u001b[1;33m)\u001b[0m\u001b[1;33m.\u001b[0m\u001b[0missuperset\u001b[0m\u001b[1;33m(\u001b[0m\u001b[1;34m'r+'\u001b[0m\u001b[1;33m)\u001b[0m \u001b[1;32mand\u001b[0m \u001b[0mself\u001b[0m\u001b[1;33m.\u001b[0m\u001b[0mseekable\u001b[0m\u001b[1;33m(\u001b[0m\u001b[1;33m)\u001b[0m\u001b[1;33m:\u001b[0m\u001b[1;33m\u001b[0m\u001b[1;33m\u001b[0m\u001b[0m\n",
      "\u001b[1;32m~\\Anaconda3\\lib\\site-packages\\soundfile.py\u001b[0m in \u001b[0;36m_open\u001b[1;34m(self, file, mode_int, closefd)\u001b[0m\n\u001b[0;32m   1183\u001b[0m         _error_check(_snd.sf_error(file_ptr),\n\u001b[1;32m-> 1184\u001b[1;33m                      \"Error opening {0!r}: \".format(self.name))\n\u001b[0m\u001b[0;32m   1185\u001b[0m         \u001b[1;32mif\u001b[0m \u001b[0mmode_int\u001b[0m \u001b[1;33m==\u001b[0m \u001b[0m_snd\u001b[0m\u001b[1;33m.\u001b[0m\u001b[0mSFM_WRITE\u001b[0m\u001b[1;33m:\u001b[0m\u001b[1;33m\u001b[0m\u001b[1;33m\u001b[0m\u001b[0m\n",
      "\u001b[1;32m~\\Anaconda3\\lib\\site-packages\\soundfile.py\u001b[0m in \u001b[0;36m_error_check\u001b[1;34m(err, prefix)\u001b[0m\n\u001b[0;32m   1356\u001b[0m         \u001b[0merr_str\u001b[0m \u001b[1;33m=\u001b[0m \u001b[0m_snd\u001b[0m\u001b[1;33m.\u001b[0m\u001b[0msf_error_number\u001b[0m\u001b[1;33m(\u001b[0m\u001b[0merr\u001b[0m\u001b[1;33m)\u001b[0m\u001b[1;33m\u001b[0m\u001b[1;33m\u001b[0m\u001b[0m\n\u001b[1;32m-> 1357\u001b[1;33m         \u001b[1;32mraise\u001b[0m \u001b[0mRuntimeError\u001b[0m\u001b[1;33m(\u001b[0m\u001b[0mprefix\u001b[0m \u001b[1;33m+\u001b[0m \u001b[0m_ffi\u001b[0m\u001b[1;33m.\u001b[0m\u001b[0mstring\u001b[0m\u001b[1;33m(\u001b[0m\u001b[0merr_str\u001b[0m\u001b[1;33m)\u001b[0m\u001b[1;33m.\u001b[0m\u001b[0mdecode\u001b[0m\u001b[1;33m(\u001b[0m\u001b[1;34m'utf-8'\u001b[0m\u001b[1;33m,\u001b[0m \u001b[1;34m'replace'\u001b[0m\u001b[1;33m)\u001b[0m\u001b[1;33m)\u001b[0m\u001b[1;33m\u001b[0m\u001b[1;33m\u001b[0m\u001b[0m\n\u001b[0m\u001b[0;32m   1358\u001b[0m \u001b[1;33m\u001b[0m\u001b[0m\n",
      "\u001b[1;31mRuntimeError\u001b[0m: Error opening 'file1.webm': File contains data in an unknown format.",
      "\nDuring handling of the above exception, another exception occurred:\n",
      "\u001b[1;31mNoBackendError\u001b[0m                            Traceback (most recent call last)",
      "\u001b[1;32m<ipython-input-71-c8d7e7f858dc>\u001b[0m in \u001b[0;36m<module>\u001b[1;34m\u001b[0m\n\u001b[1;32m----> 1\u001b[1;33m \u001b[0mdata\u001b[0m\u001b[1;33m=\u001b[0m\u001b[0mlibrosa\u001b[0m\u001b[1;33m.\u001b[0m\u001b[0mload\u001b[0m\u001b[1;33m(\u001b[0m\u001b[1;34m'file1.webm'\u001b[0m\u001b[1;33m)\u001b[0m\u001b[1;33m\u001b[0m\u001b[1;33m\u001b[0m\u001b[0m\n\u001b[0m",
      "\u001b[1;32m~\\Anaconda3\\lib\\site-packages\\librosa\\core\\audio.py\u001b[0m in \u001b[0;36mload\u001b[1;34m(path, sr, mono, offset, duration, dtype, res_type)\u001b[0m\n\u001b[0;32m    160\u001b[0m         \u001b[1;32mif\u001b[0m \u001b[0misinstance\u001b[0m\u001b[1;33m(\u001b[0m\u001b[0mpath\u001b[0m\u001b[1;33m,\u001b[0m \u001b[0msix\u001b[0m\u001b[1;33m.\u001b[0m\u001b[0mstring_types\u001b[0m\u001b[1;33m)\u001b[0m\u001b[1;33m:\u001b[0m\u001b[1;33m\u001b[0m\u001b[1;33m\u001b[0m\u001b[0m\n\u001b[0;32m    161\u001b[0m             \u001b[0mwarnings\u001b[0m\u001b[1;33m.\u001b[0m\u001b[0mwarn\u001b[0m\u001b[1;33m(\u001b[0m\u001b[1;34m'PySoundFile failed. Trying audioread instead.'\u001b[0m\u001b[1;33m)\u001b[0m\u001b[1;33m\u001b[0m\u001b[1;33m\u001b[0m\u001b[0m\n\u001b[1;32m--> 162\u001b[1;33m             \u001b[0my\u001b[0m\u001b[1;33m,\u001b[0m \u001b[0msr_native\u001b[0m \u001b[1;33m=\u001b[0m \u001b[0m__audioread_load\u001b[0m\u001b[1;33m(\u001b[0m\u001b[0mpath\u001b[0m\u001b[1;33m,\u001b[0m \u001b[0moffset\u001b[0m\u001b[1;33m,\u001b[0m \u001b[0mduration\u001b[0m\u001b[1;33m,\u001b[0m \u001b[0mdtype\u001b[0m\u001b[1;33m)\u001b[0m\u001b[1;33m\u001b[0m\u001b[1;33m\u001b[0m\u001b[0m\n\u001b[0m\u001b[0;32m    163\u001b[0m         \u001b[1;32melse\u001b[0m\u001b[1;33m:\u001b[0m\u001b[1;33m\u001b[0m\u001b[1;33m\u001b[0m\u001b[0m\n\u001b[0;32m    164\u001b[0m             \u001b[0msix\u001b[0m\u001b[1;33m.\u001b[0m\u001b[0mreraise\u001b[0m\u001b[1;33m(\u001b[0m\u001b[1;33m*\u001b[0m\u001b[0msys\u001b[0m\u001b[1;33m.\u001b[0m\u001b[0mexc_info\u001b[0m\u001b[1;33m(\u001b[0m\u001b[1;33m)\u001b[0m\u001b[1;33m)\u001b[0m\u001b[1;33m\u001b[0m\u001b[1;33m\u001b[0m\u001b[0m\n",
      "\u001b[1;32m~\\Anaconda3\\lib\\site-packages\\librosa\\core\\audio.py\u001b[0m in \u001b[0;36m__audioread_load\u001b[1;34m(path, offset, duration, dtype)\u001b[0m\n\u001b[0;32m    184\u001b[0m \u001b[1;33m\u001b[0m\u001b[0m\n\u001b[0;32m    185\u001b[0m     \u001b[0my\u001b[0m \u001b[1;33m=\u001b[0m \u001b[1;33m[\u001b[0m\u001b[1;33m]\u001b[0m\u001b[1;33m\u001b[0m\u001b[1;33m\u001b[0m\u001b[0m\n\u001b[1;32m--> 186\u001b[1;33m     \u001b[1;32mwith\u001b[0m \u001b[0maudioread\u001b[0m\u001b[1;33m.\u001b[0m\u001b[0maudio_open\u001b[0m\u001b[1;33m(\u001b[0m\u001b[0mpath\u001b[0m\u001b[1;33m)\u001b[0m \u001b[1;32mas\u001b[0m \u001b[0minput_file\u001b[0m\u001b[1;33m:\u001b[0m\u001b[1;33m\u001b[0m\u001b[1;33m\u001b[0m\u001b[0m\n\u001b[0m\u001b[0;32m    187\u001b[0m         \u001b[0msr_native\u001b[0m \u001b[1;33m=\u001b[0m \u001b[0minput_file\u001b[0m\u001b[1;33m.\u001b[0m\u001b[0msamplerate\u001b[0m\u001b[1;33m\u001b[0m\u001b[1;33m\u001b[0m\u001b[0m\n\u001b[0;32m    188\u001b[0m         \u001b[0mn_channels\u001b[0m \u001b[1;33m=\u001b[0m \u001b[0minput_file\u001b[0m\u001b[1;33m.\u001b[0m\u001b[0mchannels\u001b[0m\u001b[1;33m\u001b[0m\u001b[1;33m\u001b[0m\u001b[0m\n",
      "\u001b[1;32m~\\Anaconda3\\lib\\site-packages\\audioread\\__init__.py\u001b[0m in \u001b[0;36maudio_open\u001b[1;34m(path, backends)\u001b[0m\n\u001b[0;32m    114\u001b[0m \u001b[1;33m\u001b[0m\u001b[0m\n\u001b[0;32m    115\u001b[0m     \u001b[1;31m# All backends failed!\u001b[0m\u001b[1;33m\u001b[0m\u001b[1;33m\u001b[0m\u001b[1;33m\u001b[0m\u001b[0m\n\u001b[1;32m--> 116\u001b[1;33m     \u001b[1;32mraise\u001b[0m \u001b[0mNoBackendError\u001b[0m\u001b[1;33m(\u001b[0m\u001b[1;33m)\u001b[0m\u001b[1;33m\u001b[0m\u001b[1;33m\u001b[0m\u001b[0m\n\u001b[0m",
      "\u001b[1;31mNoBackendError\u001b[0m: "
     ]
    }
   ],
   "source": [
    "data=librosa.load('file1.webm')"
   ]
  },
  {
   "cell_type": "code",
   "execution_count": 57,
   "metadata": {},
   "outputs": [],
   "source": [
    "import audioread"
   ]
  },
  {
   "cell_type": "code",
   "execution_count": 60,
   "metadata": {},
   "outputs": [
    {
     "ename": "NoBackendError",
     "evalue": "",
     "output_type": "error",
     "traceback": [
      "\u001b[1;31m---------------------------------------------------------------------------\u001b[0m",
      "\u001b[1;31mNoBackendError\u001b[0m                            Traceback (most recent call last)",
      "\u001b[1;32m<ipython-input-60-77da25a14eca>\u001b[0m in \u001b[0;36m<module>\u001b[1;34m\u001b[0m\n\u001b[1;32m----> 1\u001b[1;33m \u001b[1;32mwith\u001b[0m \u001b[0maudioread\u001b[0m\u001b[1;33m.\u001b[0m\u001b[0maudio_open\u001b[0m\u001b[1;33m(\u001b[0m\u001b[1;34m'file1.webm'\u001b[0m\u001b[1;33m)\u001b[0m \u001b[1;32mas\u001b[0m \u001b[0mf\u001b[0m\u001b[1;33m:\u001b[0m\u001b[1;33m\u001b[0m\u001b[1;33m\u001b[0m\u001b[0m\n\u001b[0m\u001b[0;32m      2\u001b[0m     \u001b[0mprint\u001b[0m\u001b[1;33m(\u001b[0m\u001b[1;34m'done'\u001b[0m\u001b[1;33m)\u001b[0m\u001b[1;33m\u001b[0m\u001b[1;33m\u001b[0m\u001b[0m\n",
      "\u001b[1;32m~\\Anaconda3\\lib\\site-packages\\audioread\\__init__.py\u001b[0m in \u001b[0;36maudio_open\u001b[1;34m(path, backends)\u001b[0m\n\u001b[0;32m    114\u001b[0m \u001b[1;33m\u001b[0m\u001b[0m\n\u001b[0;32m    115\u001b[0m     \u001b[1;31m# All backends failed!\u001b[0m\u001b[1;33m\u001b[0m\u001b[1;33m\u001b[0m\u001b[1;33m\u001b[0m\u001b[0m\n\u001b[1;32m--> 116\u001b[1;33m     \u001b[1;32mraise\u001b[0m \u001b[0mNoBackendError\u001b[0m\u001b[1;33m(\u001b[0m\u001b[1;33m)\u001b[0m\u001b[1;33m\u001b[0m\u001b[1;33m\u001b[0m\u001b[0m\n\u001b[0m",
      "\u001b[1;31mNoBackendError\u001b[0m: "
     ]
    }
   ],
   "source": [
    "with audioread.audio_open('file1.webm') as f:\n",
    "    print('done')"
   ]
  },
  {
   "cell_type": "code",
   "execution_count": null,
   "metadata": {},
   "outputs": [],
   "source": []
  }
 ],
 "metadata": {
  "kernelspec": {
   "display_name": "Python 3",
   "language": "python",
   "name": "python3"
  },
  "language_info": {
   "codemirror_mode": {
    "name": "ipython",
    "version": 3
   },
   "file_extension": ".py",
   "mimetype": "text/x-python",
   "name": "python",
   "nbconvert_exporter": "python",
   "pygments_lexer": "ipython3",
   "version": "3.7.4"
  }
 },
 "nbformat": 4,
 "nbformat_minor": 2
}
